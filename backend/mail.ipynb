{
 "cells": [
  {
   "cell_type": "code",
   "execution_count": 15,
   "metadata": {},
   "outputs": [],
   "source": [
    "from openai import OpenAI\n",
    "from dotenv import load_dotenv\n",
    "import os\n",
    "\n",
    "def text_to_speech(text):\n",
    "    dev = True\n",
    "\n",
    "    if dev:\n",
    "        load_dotenv()\n",
    "\n",
    "    key  = os.environ.get('OPENAI_KEY')\n",
    "\n",
    "    client = OpenAI(api_key=key)\n",
    "\n",
    "    response = client.audio.speech.create(\n",
    "        model=\"tts-1\",\n",
    "        voice=\"alloy\",\n",
    "        input=\"Today is a wonderful day to build something people love!\"\n",
    "    )\n",
    "    return response"
   ]
  },
  {
   "cell_type": "code",
   "execution_count": 16,
   "metadata": {},
   "outputs": [],
   "source": [
    "res = text_to_speech(\"\")"
   ]
  },
  {
   "cell_type": "code",
   "execution_count": 22,
   "metadata": {},
   "outputs": [
    {
     "data": {
      "text/plain": [
       "0"
      ]
     },
     "execution_count": 22,
     "metadata": {},
     "output_type": "execute_result"
    }
   ],
   "source": [
    "import io\n",
    "\n",
    "buffer = io.BytesIO()\n",
    "for chunk in res.iter_bytes(chunk_size=4096):\n",
    "  buffer.write(chunk)\n",
    "buffer.seek(0)"
   ]
  },
  {
   "cell_type": "code",
   "execution_count": 23,
   "metadata": {},
   "outputs": [
    {
     "data": {
      "text/plain": [
       "<_io.BytesIO at 0x1098f0b80>"
      ]
     },
     "execution_count": 23,
     "metadata": {},
     "output_type": "execute_result"
    }
   ],
   "source": [
    "with sf.SoundFile(buffer, 'r') as sound_file:\n",
    "  data = sound_file.read(dtype='int16')\n",
    "  sd.play(data, sound_file.samplerate)\n",
    "  sd.wait()"
   ]
  },
  {
   "cell_type": "code",
   "execution_count": 26,
   "metadata": {},
   "outputs": [],
   "source": [
    "import smtplib\n",
    "from email.mime.multipart import MIMEMultipart\n",
    "from email.mime.audio import MIMEAudio\n",
    "from email.mime.base import MIMEBase\n",
    "from email import encoders\n",
    "from email.mime.text import MIMEText\n",
    "from audio import text_to_speech\n",
    "import io\n",
    "\n",
    "smtp_server = 'smtp.gmail.com'\n",
    "smtp_port = 587\n",
    "smtp_username = 'carnegieaino@gmail.com'\n",
    "smtp_password = 'royc bltj omda cbwq'\n",
    "from_email = 'carnegieaino@gmail.com'\n",
    "\n",
    "\n",
    "def send_email_with_attachement(subject, body, to_email, attachment_path):\n",
    "    \n",
    "    msg = MIMEMultipart()\n",
    "    msg['From'] = from_email\n",
    "    msg['To'] = to_email\n",
    "    msg['Subject'] = subject\n",
    "    \n",
    "    # Attach the body of the email as plain text\n",
    "    msg.attach(MIMEText(body, 'plain'))\n",
    "\n",
    "\n",
    "    audio_data = text_to_speech(\"\")\n",
    "\n",
    "    buffer = io.BytesIO()\n",
    "\n",
    "    for chunk in audio_data.iter_bytes(chunk_size=4096):\n",
    "        buffer.write(chunk)\n",
    "    buffer.seek(0)\n",
    "\n",
    "    byte_data = buffer.getvalue()\n",
    "\n",
    "    filename = \"summary.mp3\"\n",
    "    \n",
    "    # Create MIMEAudio object with the MP3 data directly from response\n",
    "    audio = MIMEAudio(byte_data, _subtype='mp3')\n",
    "    audio.add_header('Content-Disposition', f'attachment; filename={filename}')\n",
    "    \n",
    "    # Attach the audio to the email\n",
    "    msg.attach(audio)\n",
    "\n",
    "    try:\n",
    "        server = smtplib.SMTP(smtp_server, smtp_port)\n",
    "        server.starttls()\n",
    "        server.login(from_email, smtp_password)\n",
    "        text = msg.as_string()\n",
    "        server.sendmail(from_email, to_email, text)\n",
    "        server.quit()\n",
    "        print(\"Email sent successfully!\")\n",
    "    except Exception as e:\n",
    "        print(f\"Failed to send email: {e}\")\n",
    "\n",
    "\n",
    "def send_email(subject, to_email, content):\n",
    "    \n",
    "    message = f'Subject: {subject}\\n\\n{content}'\n",
    "\n",
    "    with smtplib.SMTP(smtp_server, smtp_port) as smtp:\n",
    "        smtp.starttls()\n",
    "        smtp.login(smtp_username, smtp_password)\n",
    "        smtp.sendmail(from_email, to_email, message)"
   ]
  },
  {
   "cell_type": "code",
   "execution_count": 27,
   "metadata": {},
   "outputs": [
    {
     "name": "stdout",
     "output_type": "stream",
     "text": [
      "Email sent successfully!\n"
     ]
    }
   ],
   "source": [
    "path = \"/Users/mithunan.sivakumar/Pictures/Dev/news_articles_summarizer/letter1-20576.mp3\"\n",
    "subject = \"New summary\"\n",
    "body = \"se vedlegg\"\n",
    "to_email = \"mithunan2522@gmail.com\"\n",
    "\n",
    "send_email_with_attachement(subject, body, to_email, path)"
   ]
  }
 ],
 "metadata": {
  "kernelspec": {
   "display_name": "carnegie",
   "language": "python",
   "name": "python3"
  },
  "language_info": {
   "codemirror_mode": {
    "name": "ipython",
    "version": 3
   },
   "file_extension": ".py",
   "mimetype": "text/x-python",
   "name": "python",
   "nbconvert_exporter": "python",
   "pygments_lexer": "ipython3",
   "version": "3.13.0"
  }
 },
 "nbformat": 4,
 "nbformat_minor": 2
}
