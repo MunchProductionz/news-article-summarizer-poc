{
 "cells": [
  {
   "cell_type": "markdown",
   "metadata": {},
   "source": [
    "# MVP"
   ]
  },
  {
   "cell_type": "code",
   "execution_count": 8,
   "metadata": {},
   "outputs": [],
   "source": [
    "import requests\n",
    "import bs4\n",
    "import selenium\n",
    "from datetime import datetime\n",
    "import calendar\n",
    "from typing import List, Dict, Union, Optional\n",
    "from pprint import pprint\n",
    "import time\n",
    "from typing_extensions import TypedDict\n",
    "import os"
   ]
  },
  {
   "cell_type": "code",
   "execution_count": 9,
   "metadata": {},
   "outputs": [],
   "source": [
    "class ArticleInfo(TypedDict):\n",
    "    date_time: datetime\n",
    "    category: str\n",
    "    title: str\n",
    "    url: str\n",
    "    \n",
    "class ArticleInfoLeadText(TypedDict):\n",
    "    date_time: datetime\n",
    "    category: str\n",
    "    title: str\n",
    "    url: str\n",
    "    lead_text: str\n",
    "\n",
    "class ArticleInfoContent(TypedDict):\n",
    "    date_time: datetime\n",
    "    category: str\n",
    "    title: str\n",
    "    url: str\n",
    "    lead_text: str\n",
    "    content: str\n",
    "\n",
    "class ArticleSummary(TypedDict):\n",
    "    date_time: datetime\n",
    "    category: str\n",
    "    title: str\n",
    "    url: str\n",
    "    lead_text: str\n",
    "    content: str\n",
    "    summary: str\n",
    "    bullet_points: str"
   ]
  },
  {
   "cell_type": "code",
   "execution_count": 10,
   "metadata": {},
   "outputs": [],
   "source": [
    "# Get date\n",
    "def get_date(time):\n",
    "    date_format = time.attrs['publish-date-format']\n",
    "    date = time.text.split('Published')[1].strip()\n",
    "    month = date.split(' ')[1]\n",
    "    month_number = list(calendar.month_name).index(month)\n",
    "    if month_number < 10:\n",
    "        month_number = '0' + str(month_number)\n",
    "    date = date.replace(month, str(month_number)).replace(' ', '-')\n",
    "    date_format = date_format.replace('D', '%d').replace('MMM', '%m').replace('YYYY', '%Y').replace('HH', '%H').replace('mm', '%M').replace(' ', '-')\n",
    "    datetime_object = datetime.strptime(date[:-4], date_format)\n",
    "    return datetime_object\n",
    "\n",
    "# Get category\n",
    "def get_category(card):\n",
    "    category = card.find('a').text.strip()\n",
    "    return category\n",
    "\n",
    "# Get title and href\n",
    "def get_title_link(div):\n",
    "    title = div.find('a').text.strip()\n",
    "    href = div.find('a').get('href')\n",
    "    link = 'https://www.tradewindsnews.com/' + href\n",
    "    return title, link"
   ]
  },
  {
   "cell_type": "code",
   "execution_count": 11,
   "metadata": {},
   "outputs": [],
   "source": [
    "def get_articles_with_info(verbose=False, hours_ago=8) -> List[ArticleInfo]:\n",
    "    response = requests.get('https://www.tradewindsnews.com/latest')\n",
    "    HTML = response.text\n",
    "    soup = bs4.BeautifulSoup(HTML, 'html.parser')\n",
    "\n",
    "    divs = soup.findAll('div', {'class': 'mb-auto'})\n",
    "    cards = soup.findAll('div', {'class': 'card-body'})\n",
    "    times = soup.findAll('span', {'class': 'published-at'})\n",
    "    \n",
    "    articles = []\n",
    "\n",
    "    for i, (div, card, time) in enumerate(zip(divs, cards, times)):\n",
    "        title, link = get_title_link(div)\n",
    "        category = get_category(card)\n",
    "        date = get_date(time)\n",
    "        \n",
    "        # Only get articles from the last 2 hours       # 7200 / 60 / 60\n",
    "        seconds_per_hour = 60*60\n",
    "        hours = hours_ago\n",
    "        if (datetime.now() - date).seconds > hours*seconds_per_hour:\n",
    "            if verbose:\n",
    "                print(f'No more articles from the front page to show from the last {hours} hours ({i+1}/{len(divs)})\\n')\n",
    "            break\n",
    "        \n",
    "        article = ArticleInfo(\n",
    "            date_time=date,\n",
    "            category=category,\n",
    "            title=title,\n",
    "            url=link\n",
    "            )\n",
    "        articles.append(article)\n",
    "        \n",
    "        if verbose:\n",
    "            print(f'{date} - {category} - {title}')\n",
    "    \n",
    "    return articles"
   ]
  },
  {
   "cell_type": "code",
   "execution_count": 19,
   "metadata": {},
   "outputs": [
    {
     "name": "stdout",
     "output_type": "stream",
     "text": [
      "2024-10-18 21:16:00 - Containers - Houthis claim to target Maersk-chartered Costamare ship off Oman\n",
      "2024-10-18 17:48:00 - Law - Seacor Marine takes broker to court after charterer’s bankrtupcy\n",
      "2024-10-18 16:14:00 - Tankers - LR2s surge 36% in four days as Middle East product fixtures show ‘signs of recovery’\n",
      "2024-10-18 15:43:00 - Tankers - The Scorpio fixture that wasn’t: Someone makes big money on an STI ship, but with a twist\n",
      "2024-10-18 15:18:00 - Opinion - Wavelength podcast: US and UK increase sanctions pressure on Iran and Russia\n",
      "2024-10-18 15:15:00 - Containers - Container freight rates slide for 12th week in succession\n",
      "2024-10-18 15:10:00 - Law - Arrest warrant issued after Greek dockworkers block Israel-bound ammunition cargo\n",
      "2024-10-18 13:27:00 - Shipyards - Hengli Heavy’s billionaire owners go for Shanghai listing through reverse takeover\n",
      "2024-10-18 12:41:00 - Insurance - Why some shipowners are staring down the barrel of insurance hikes next year\n",
      "2024-10-18 11:38:00 - Tankers - Tankers International’s maritime walk raises £10,000 for Mercy Ships\n",
      "2024-10-18 10:45:00 - People - Singapore Shipping Association hires logistics veteran to replace long-time chief Michael Phoon\n",
      "2024-10-18 10:42:00 - Containers - Seatrade bags $150m from sale of container ship quintet to CMA CGM\n",
      "2024-10-18 10:13:00 - Finance - Investment manager Basalt Partners kicks off new LNG shipowning venture with Celsius\n",
      "2024-10-18 09:58:00 - Gas - Titan lashes out at Shell for not choosing LNG-fuelling on newbuildings\n",
      "2024-10-18 09:24:00 - Law - Baltimore bridge tragedy cost coal exporter $100m, claim alleges\n",
      "2024-10-18 08:35:00 - Tankers - US Marine beats 11 owners to lucrative US Navy charter for product tankers\n",
      "2024-10-18 08:25:00 - Gas - Trio of laden sanctioned Russian LNG shadow ships converge in Asia\n",
      "2024-10-18 08:12:00 - Shipbroking - Dutch shipbroker Friday & Co hires veteran Justin Archard on its S&P desk\n",
      "2024-10-18 07:49:00 - Insurance - Crackdown on insurance cover could see ships banned from India’s ports\n",
      "2024-10-18 07:18:00 - Bulkers - Miner Vale extends record wind propulsion investment with rotor sails on giant chartered VLOC\n"
     ]
    }
   ],
   "source": [
    "articles = get_articles_with_info(verbose=True, hours_ago=24)"
   ]
  },
  {
   "cell_type": "code",
   "execution_count": 122,
   "metadata": {},
   "outputs": [],
   "source": [
    "def get_articles_with_lead_text(articles: List[ArticleInfo]) -> List[ArticleInfoLeadText]:\n",
    "    articles_with_lead_text = []\n",
    "    for article in articles:\n",
    "        time.sleep(0.5)\n",
    "        response = requests.get(article['url'])\n",
    "        HTML = response.text\n",
    "        soup = bs4.BeautifulSoup(HTML, 'html.parser')\n",
    "\n",
    "        divs = soup.findAll('p', {'class': 'fs-lg mb-4 article-lead-text'})\n",
    "        article_with_lead_text = ArticleInfoLeadText(\n",
    "            date_time=article['date_time'],\n",
    "            category=article['category'],\n",
    "            title=article['title'],\n",
    "            url=article['url'],\n",
    "            lead_text=divs[0].text  # Added this line\n",
    "            )\n",
    "        articles_with_lead_text.append(article_with_lead_text)\n",
    "    return articles_with_lead_text"
   ]
  },
  {
   "cell_type": "code",
   "execution_count": 123,
   "metadata": {},
   "outputs": [
    {
     "name": "stdout",
     "output_type": "stream",
     "text": [
      "{'category': 'Containers',\n",
      " 'date_time': datetime.datetime(2024, 10, 18, 21, 16),\n",
      " 'title': 'Houthis claim to target Maersk-chartered Costamare ship off Oman',\n",
      " 'url': 'https://www.tradewindsnews.com//containers/houthis-claim-to-target-maersk-chartered-costamare-ship-off-oman/2-1-1726937'}\n",
      "{'category': 'Containers',\n",
      " 'date_time': datetime.datetime(2024, 10, 18, 21, 16),\n",
      " 'lead_text': 'Military forces have not independently confirmed targeting of '\n",
      "              'vessel in Arabian Sea',\n",
      " 'title': 'Houthis claim to target Maersk-chartered Costamare ship off Oman',\n",
      " 'url': 'https://www.tradewindsnews.com//containers/houthis-claim-to-target-maersk-chartered-costamare-ship-off-oman/2-1-1726937'}\n"
     ]
    }
   ],
   "source": [
    "articles_test = articles\n",
    "pprint(articles_test[0])\n",
    "articles_test: List[ArticleInfoLeadText] = get_articles_with_lead_text(articles_test)\n",
    "pprint(articles_test[0])"
   ]
  },
  {
   "cell_type": "code",
   "execution_count": 124,
   "metadata": {},
   "outputs": [
    {
     "name": "stdout",
     "output_type": "stream",
     "text": [
      "Military forces have not independently confirmed targeting of vessel in Arabian Sea\n"
     ]
    }
   ],
   "source": [
    "for article_test in articles_test:\n",
    "    print(article_test['lead_text'])"
   ]
  },
  {
   "cell_type": "markdown",
   "metadata": {},
   "source": [
    "### User Input"
   ]
  },
  {
   "cell_type": "code",
   "execution_count": 58,
   "metadata": {},
   "outputs": [],
   "source": [
    "def get_articles_to_read(verbose=False, hours_ago=24) -> List[ArticleInfoLeadText]:\n",
    "    articles = get_articles_with_info(verbose=False, hours_ago=hours_ago)\n",
    "    articles = get_articles_with_lead_text(articles)\n",
    "\n",
    "    if verbose:\n",
    "        print(\"### Articles ###\")\n",
    "        for i, article in enumerate(articles):\n",
    "            print(f\"Article {i+1}/{len(articles)}\")\n",
    "            print(f\"Date: {article['date_time'].strftime('%Y-%m-%d %H:%M:%S')} - Category: {article['category']}\")\n",
    "            print(f\"- {article['title']}\")\n",
    "            print(f\"- {article[\"lead_text\"]}\")\n",
    "            print()\n",
    "        \n",
    "    user_input = input(\"Which article would you like to read? (ex. 1,3,4): \")\n",
    "    articles_to_read = [int(i) for i in user_input.split(',')]\n",
    "    articles_to_read = [articles[i-1] for i in articles_to_read]\n",
    "\n",
    "    if verbose:\n",
    "        print(\"### Articles to read ###\")\n",
    "        for i, article in enumerate(articles_to_read):\n",
    "            print(f\"Article {i+1}/{len(articles_to_read)}\")\n",
    "            print(f\"Date: {article['date_time'].strftime('%Y-%m-%d %H:%M:%S')} - Category: {article['category']}\")\n",
    "            print(f\"- {article['title']}\")\n",
    "            print(f\"- {article[\"lead_text\"]}\")\n",
    "            print()\n",
    "            \n",
    "    return articles_to_read"
   ]
  },
  {
   "cell_type": "code",
   "execution_count": 59,
   "metadata": {},
   "outputs": [
    {
     "name": "stdout",
     "output_type": "stream",
     "text": [
      "### Articles ###\n",
      "Article 1/20\n",
      "Date: 2024-10-18 21:16:00 - Category: Containers\n",
      "- Houthis claim to target Maersk-chartered Costamare ship off Oman\n",
      "- Military forces have not independently confirmed targeting of vessel in Arabian Sea\n",
      "\n",
      "Article 2/20\n",
      "Date: 2024-10-18 17:48:00 - Category: Law\n",
      "- Seacor Marine takes broker to court after charterer’s bankrtupcy\n",
      "- Offshore vessel owner says it should be paid some of the $13m that GOL received from the Cox Operating Chapter 11 case\n",
      "\n",
      "Article 3/20\n",
      "Date: 2024-10-18 16:14:00 - Category: Tankers\n",
      "- LR2s surge 36% in four days as Middle East product fixtures show ‘signs of recovery’\n",
      "- Smaller LR1s also join in the rate recovery \n",
      "\n",
      "Article 4/20\n",
      "Date: 2024-10-18 15:43:00 - Category: Tankers\n",
      "- The Scorpio fixture that wasn’t: Someone makes big money on an STI ship, but with a twist\n",
      "- New York-listed owner is not in period-cover mode, but others are tapping a strong LR2 market\n",
      "\n",
      "Article 5/20\n",
      "Date: 2024-10-18 15:18:00 - Category: Opinion\n",
      "- Wavelength podcast: US and UK increase sanctions pressure on Iran and Russia\n",
      "- Norden explains its position in China and futurist KD Adamson talks 'noble-isation' of shipping\n",
      "\n",
      "Article 6/20\n",
      "Date: 2024-10-18 15:15:00 - Category: Containers\n",
      "- Container freight rates slide for 12th week in succession\n",
      "- Port strikes and other disruptions likely to offset influx of 3m teu in capacity, says Drewry\n",
      "\n",
      "Article 7/20\n",
      "Date: 2024-10-18 15:10:00 - Category: Law\n",
      "- Arrest warrant issued after Greek dockworkers block Israel-bound ammunition cargo\n",
      "- Protest took place at docks controlled by China Cosco Shipping\n",
      "\n",
      "Article 8/20\n",
      "Date: 2024-10-18 13:27:00 - Category: Shipyards\n",
      "- Hengli Heavy’s billionaire owners go for Shanghai listing through reverse takeover\n",
      "- Husband and wife team Chen Jianhua and Fan Hongwei combine their Songfa Ceramics with reborn shipbuilding venture\n",
      "\n",
      "Article 9/20\n",
      "Date: 2024-10-18 12:41:00 - Category: Insurance\n",
      "- Why some shipowners are staring down the barrel of insurance hikes next year\n",
      "- Aon says high number of pool claims is adding pressure to increase premiums\n",
      "\n",
      "Article 10/20\n",
      "Date: 2024-10-18 11:38:00 - Category: Tankers\n",
      "- Tankers International’s maritime walk raises £10,000 for Mercy Ships\n",
      "- VLCC pool company’s staff took in London’s historic sights on 15 km trek\n",
      "\n",
      "Article 11/20\n",
      "Date: 2024-10-18 10:45:00 - Category: People\n",
      "- Singapore Shipping Association hires logistics veteran to replace long-time chief Michael Phoon\n",
      "- Industry body has been hunting for a successor since August\n",
      "\n",
      "Article 12/20\n",
      "Date: 2024-10-18 10:42:00 - Category: Containers\n",
      "- Seatrade bags $150m from sale of container ship quintet to CMA CGM\n",
      "- Saade-family controlled carrier is buying five high-reefer vessels\n",
      "\n",
      "Article 13/20\n",
      "Date: 2024-10-18 10:13:00 - Category: Finance\n",
      "- Investment manager Basalt Partners kicks off new LNG shipowning venture with Celsius\n",
      "- Joint venture acquires leased LNG carriers from Cosco and China Merchants\n",
      "\n",
      "Article 14/20\n",
      "Date: 2024-10-18 09:58:00 - Category: Gas\n",
      "- Titan lashes out at Shell for not choosing LNG-fuelling on newbuildings\n",
      "- Dutch company says major is sending out ‘strange signal’ and questions its commitment to decarbonisation\n",
      "\n",
      "Article 15/20\n",
      "Date: 2024-10-18 09:24:00 - Category: Law\n",
      "- Baltimore bridge tragedy cost coal exporter $100m, claim alleges\n",
      "- Grace Ocean and Synergy complain of ‘false and misleading’ statements in claims against them\n",
      "\n",
      "Article 16/20\n",
      "Date: 2024-10-18 08:35:00 - Category: Tankers\n",
      "- US Marine beats 11 owners to lucrative US Navy charter for product tankers\n",
      "- Maritime Partners-controlled shipowner could bank up to $73m\n",
      "\n",
      "Article 17/20\n",
      "Date: 2024-10-18 08:25:00 - Category: Gas\n",
      "- Trio of laden sanctioned Russian LNG shadow ships converge in Asia\n",
      "- Northern Sea Route slams shut for all but Arc7 vessels as early as ice builds up\n",
      "\n",
      "Article 18/20\n",
      "Date: 2024-10-18 08:12:00 - Category: Shipbroking\n",
      "- Dutch shipbroker Friday & Co hires veteran Justin Archard on its S&P desk\n",
      "- Firm had 24 vessels delivered in 2023\n",
      "\n",
      "Article 19/20\n",
      "Date: 2024-10-18 07:49:00 - Category: Insurance\n",
      "- Crackdown on insurance cover could see ships banned from India’s ports\n",
      "- Measures follow cases of vessels failing to pay premiums\n",
      "\n",
      "Article 20/20\n",
      "Date: 2024-10-18 07:18:00 - Category: Bulkers\n",
      "- Miner Vale extends record wind propulsion investment with rotor sails on giant chartered VLOC\n",
      "- Brazilian group agrees deal for rotor sails with owner NS United\n",
      "\n",
      "### Articles to read ###\n",
      "Article 1/3\n",
      "Date: 2024-10-18 21:16:00 - Category: Containers\n",
      "- Houthis claim to target Maersk-chartered Costamare ship off Oman\n",
      "- Military forces have not independently confirmed targeting of vessel in Arabian Sea\n",
      "\n",
      "Article 2/3\n",
      "Date: 2024-10-18 16:14:00 - Category: Tankers\n",
      "- LR2s surge 36% in four days as Middle East product fixtures show ‘signs of recovery’\n",
      "- Smaller LR1s also join in the rate recovery \n",
      "\n",
      "Article 3/3\n",
      "Date: 2024-10-18 15:43:00 - Category: Tankers\n",
      "- The Scorpio fixture that wasn’t: Someone makes big money on an STI ship, but with a twist\n",
      "- New York-listed owner is not in period-cover mode, but others are tapping a strong LR2 market\n",
      "\n"
     ]
    }
   ],
   "source": [
    "articles_to_read = get_articles_to_read(verbose=True, hours_ago=24)"
   ]
  },
  {
   "cell_type": "markdown",
   "metadata": {},
   "source": [
    "### Login"
   ]
  },
  {
   "cell_type": "code",
   "execution_count": 4,
   "metadata": {},
   "outputs": [
    {
     "name": "stdout",
     "output_type": "stream",
     "text": [
      "[<div class=\"input-field-wrapper d-flex\" data-v-43684e78=\"\"><input autocomplete=\"\" data-v-43684e78=\"\" name=\"username\" placeholder=\"Your email address\" value=\"\"/> <div class=\"text-field-loader\" data-v-523a1ff1=\"\" style=\"display:none;\"><svg aria-hidden=\"true\" class=\"svg-inline--fa fa-spinner fa-w-16 fa-spin fa-pulse fa-1x\" data-icon=\"spinner\" data-prefix=\"fas\" data-v-523a1ff1=\"\" focusable=\"false\" role=\"img\" viewbox=\"0 0 512 512\" xmlns=\"http://www.w3.org/2000/svg\"><path d=\"M304 48c0 26.51-21.49 48-48 48s-48-21.49-48-48 21.49-48 48-48 48 21.49 48 48zm-48 368c-26.51 0-48 21.49-48 48s21.49 48 48 48 48-21.49 48-48-21.49-48-48-48zm208-208c-26.51 0-48 21.49-48 48s21.49 48 48 48 48-21.49 48-48-21.49-48-48-48zM96 256c0-26.51-21.49-48-48-48S0 229.49 0 256s21.49 48 48 48 48-21.49 48-48zm12.922 99.078c-26.51 0-48 21.49-48 48s21.49 48 48 48 48-21.49 48-48c0-26.509-21.491-48-48-48zm294.156 0c-26.51 0-48 21.49-48 48s21.49 48 48 48 48-21.49 48-48c0-26.509-21.49-48-48-48zM108.922 60.922c-26.51 0-48 21.49-48 48s21.49 48 48 48 48-21.49 48-48-21.491-48-48-48z\" data-v-523a1ff1=\"\" fill=\"currentColor\"></path></svg></div></div>, <div class=\"input-field-wrapper d-flex\" data-v-43684e78=\"\"><input autocomplete=\"\" data-v-43684e78=\"\" name=\"password\" placeholder=\"Your password\" type=\"password\" value=\"\"/> <!-- --></div>]\n"
     ]
    }
   ],
   "source": [
    "response = requests.get(\"https://www.tradewindsnews.com/auth/user/login?target=%2F\")\n",
    "HTML = response.text\n",
    "soup = bs4.BeautifulSoup(HTML, 'html.parser')\n",
    "\n",
    "divs = soup.findAll('div', {'class': 'input-field-wrapper d-flex'})\n",
    "print(divs)"
   ]
  },
  {
   "cell_type": "code",
   "execution_count": 125,
   "metadata": {},
   "outputs": [],
   "source": [
    "from selenium import webdriver\n",
    "from selenium.webdriver.support.ui import WebDriverWait\n",
    "from selenium.webdriver.common.by import By\n",
    "import time"
   ]
  },
  {
   "cell_type": "code",
   "execution_count": 9,
   "metadata": {},
   "outputs": [],
   "source": [
    "# Credentials\n",
    "email = \"henrrb@stud.ntnu.no\"\n",
    "password = \"WebScrapingCarnegie1\"\n",
    "\n",
    "test_article_url = \"https://www.tradewindsnews.com/containers/houthis-claim-to-target-maersk-chartered-costamare-ship-off-oman/2-1-1726937\"\n",
    "test_article_title = \"Houthis claim to target Maersk-chartered Costamare ship off Oman\"\n",
    "\n",
    "# Open browser\n",
    "driver = webdriver.Chrome()\n",
    "driver.get(\"https://www.tradewindsnews.com/auth/user/login?target=%2F\")\n",
    "\n",
    "# Login\n",
    "time.sleep(2)\n",
    "driver.find_element(By.CSS_SELECTOR, \"#app > div.auth > div > div.form-wrapper > div > div > form > div:nth-child(1) > span:nth-child(1) > div > div.input-field-wrapper.d-flex > input\").click()\n",
    "time.sleep(1)\n",
    "driver.find_element(By.CSS_SELECTOR, \"#app > div.auth > div > div.form-wrapper > div > div > form > div:nth-child(1) > span:nth-child(1) > div > div.input-field-wrapper.d-flex > input\").send_keys(email)\n",
    "time.sleep(2)\n",
    "driver.find_element(By.CSS_SELECTOR, \"#app > div.auth > div > div.form-wrapper > div > div > form > div:nth-child(1) > span:nth-child(2) > div > div.input-field-wrapper.d-flex > input[type=password]\").click()\n",
    "time.sleep(1)\n",
    "driver.find_element(By.CSS_SELECTOR, \"#app > div.auth > div > div.form-wrapper > div > div > form > div:nth-child(1) > span:nth-child(2) > div > div.input-field-wrapper.d-flex > input[type=password]\").send_keys(password)\n",
    "time.sleep(2)\n",
    "driver.find_element(By.CSS_SELECTOR, \"#app > div.auth > div > div.form-wrapper > div > div > form > div:nth-child(2) > div.mt-0 > div > div.loading-button > button\").click()\n",
    "time.sleep(5)\n",
    "\n",
    "# Close Cookie-disclaimer\n",
    "driver.find_element(By.CSS_SELECTOR, \"#onetrust-pc-btn-handler\").click()\n",
    "time.sleep(2)\n",
    "driver.find_element(By.CSS_SELECTOR, \"#onetrust-pc-sdk > div > div.ot-pc-footer.ot-pc-scrollbar > div.ot-btn-container > button.ot-pc-refuse-all-handler\").click()\n",
    "time.sleep(1)\n",
    "# driver.find_element(By.ID, \"interactive-close-button\").click()    # NOTE: Might be necessary to close the cookie-disclaimer. Usually it does not show up (might wait for user to be idle for a while)\n",
    "# time.sleep(2)\n",
    "    \n",
    "driver.get(test_article_url)\n",
    "time.sleep(4)\n",
    "# # TOOD: Turn this into a function and call it for each article (from \"Latest\" scraping)\n",
    "# # NOTE: Might be able to skip this and just use the URL from the article (from \"Latest\" scraping)\n",
    "# # Search for article\n",
    "# driver.find_element(By.CSS_SELECTOR, \"#app > div > div.top-bar > nav > header > div > div.d-flex.justify-content-between.align-items-center > div > div > div.d-none.d-lg-block.action-menu-item.ml-4 > button\").click()\n",
    "# time.sleep(2)\n",
    "# driver.find_element(By.CSS_SELECTOR, \"#app > div > div.top-bar > nav > header > div > div.d-flex.justify-content-between.align-items-center > div > div > div.d-none.d-lg-block.action-menu-item.ml-4 > div > div > div > form > input.form-control\").click()\n",
    "# driver.find_element(By.CSS_SELECTOR, \"#app > div > div.top-bar > nav > header > div > div.d-flex.justify-content-between.align-items-center > div > div > div.d-none.d-lg-block.action-menu-item.ml-4 > div > div > div > form > input.form-control\").send_keys(test_article_title)\n",
    "# time.sleep(1)\n",
    "# driver.find_element(By.CSS_SELECTOR, \"#app > div > div.top-bar > nav > header > div > div.d-flex.justify-content-between.align-items-center > div > div > div.d-none.d-lg-block.action-menu-item.ml-4 > div > div > div > form > button\").click()\n",
    "# time.sleep(5)\n",
    "\n",
    "# # Open article\n",
    "# driver.find_element(By.CSS_SELECTOR, \"#app > div > div.container-fluid.tradewinds.archive.page-archive > div:nth-child(3) > div > div:nth-child(2) > div.col-12.col-md-9 > div:nth-child(3) > div > div > div > div.teaser-body.clearfix > div > div.col-sm-9 > div > div.mb-auto > h2 > a\").click()\n",
    "# time.sleep(5)\n",
    "\n",
    "# Get article\n",
    "article_data = {\n",
    "    'url': driver.current_url,\n",
    "    'content': bs4.BeautifulSoup(driver.page_source, 'html.parser')\n",
    "}\n"
   ]
  },
  {
   "cell_type": "code",
   "execution_count": 10,
   "metadata": {},
   "outputs": [
    {
     "name": "stdout",
     "output_type": "stream",
     "text": [
      "https://www.tradewindsnews.com/containers/houthis-claim-to-target-maersk-chartered-costamare-ship-off-oman/2-1-1726937\n"
     ]
    }
   ],
   "source": [
    "print(article_data['url'])"
   ]
  },
  {
   "cell_type": "code",
   "execution_count": 11,
   "metadata": {},
   "outputs": [
    {
     "name": "stdout",
     "output_type": "stream",
     "text": [
      "The Houthis claimed to have targeted a container ship in the fleet of AP Moller-Maersk while it was off the coast of Oman.\n",
      "The group’s military arm, describing itself as the Yemen’s armed forces, said it carried out an operation that took aim at the 4,957-teu Megalopolis (built 2013).\n",
      "The container ship is owned by US-listed tonnage provider Costamare.\n",
      "The shipowner and Maersk, the Danish liner giant, could not be immediately reached for confirmation of the incident.\n",
      "Houthi armed forces spokesman Yahya Saree announced the operation on the group’s media website and in a post on X.\n",
      "He said a number of drones targeted the Megalopolis while it was in the Arabian Sea.\n",
      "“The operation has successfully achieved its objectives,” he said. \n",
      "Tracking data from VesselsValue shows that, as of an hour of this writing, the Megalopolis was off the Omani port of Salalah. Its location transponder was broadcasting that it was under way, but it was barely moving a 0.4 knots.\n",
      "Tracking data shows that the ship reached Arabian Sea from Mediterranean, taking the long way around Cape of Good Hope rather than transiting the Suez Canal. \n",
      "Military forces monitoring maritime security in the region, including the Royal Navy’s UK Maritime Trade Operations, have not mentioned an attack that matches the description of the operation.\n",
      "And the Houthis have previously claimed attacks against faraway ships that later reported that they never came under fire.\n",
      "Saree said on X that the ship was targeted because the its owner violated the militant group’s ban on calling at Israeli ports, although location data shows the Megalopolis has not called in the country.\n",
      "In explaining the claimed operation, Saree voiced support for both Hezbollah in Lebanon and Hamas in Gaza, whose leader was killed in a firefight with Israeli forces on Tuesday.\n",
      "“The martyrdom of the great leader Yahya Sinwar will only increase the resistance and the determination of all the free people in the world to continue the path of liberation and victory,” he said. \n",
      "The Malta-flag Megalopolis has insurance from the Swedish Club and is classed by DNV.(Copyright)\n",
      "\n"
     ]
    }
   ],
   "source": [
    "paragraphs = article_data['content'].select('#app > div > div.container-fluid.tradewinds.articlepage.page-articlepage > div.wrapper > div > div:nth-child(2) > div:nth-child(1) > div.article-center-column.col-12.col-md-9.col-lg-6 > div.article-body > div')[0].select('p')\n",
    "text = \"\"\n",
    "for paragraph in paragraphs:\n",
    "    text += paragraph.text + \"\\n\"\n",
    "\n",
    "print(text)\n",
    "# print(article_data['content'].select('#app > div > div.container-fluid.tradewinds.articlepage.page-articlepage > div.wrapper > div > div:nth-child(2) > div:nth-child(1) > div.article-center-column.col-12.col-md-9.col-lg-6 > div.article-body > div')[0].select('p'))"
   ]
  },
  {
   "cell_type": "markdown",
   "metadata": {},
   "source": [
    "### Full Pipeline"
   ]
  },
  {
   "cell_type": "code",
   "execution_count": 140,
   "metadata": {},
   "outputs": [],
   "source": [
    "def login_to_trade_winds(driver: webdriver.Chrome, email: str, password: str) -> webdriver.Chrome:\n",
    "    \n",
    "    # Login Page\n",
    "    driver.get(\"https://www.tradewindsnews.com/auth/user/login?target=%2F\")\n",
    "\n",
    "    # Login\n",
    "    time.sleep(2)\n",
    "    driver.find_element(By.CSS_SELECTOR, \"#app > div.auth > div > div.form-wrapper > div > div > form > div:nth-child(1) > span:nth-child(1) > div > div.input-field-wrapper.d-flex > input\").click()\n",
    "    time.sleep(1)\n",
    "    for character in email:\n",
    "        driver.find_element(By.CSS_SELECTOR, \"#app > div.auth > div > div.form-wrapper > div > div > form > div:nth-child(1) > span:nth-child(1) > div > div.input-field-wrapper.d-flex > input\").send_keys(character)\n",
    "        time.sleep(0.1)\n",
    "    time.sleep(2)\n",
    "    driver.find_element(By.CSS_SELECTOR, \"#app > div.auth > div > div.form-wrapper > div > div > form > div:nth-child(1) > span:nth-child(2) > div > div.input-field-wrapper.d-flex > input[type=password]\").click()\n",
    "    time.sleep(1)\n",
    "    for character in password:\n",
    "        driver.find_element(By.CSS_SELECTOR, \"#app > div.auth > div > div.form-wrapper > div > div > form > div:nth-child(1) > span:nth-child(2) > div > div.input-field-wrapper.d-flex > input[type=password]\").send_keys(character)\n",
    "        time.sleep(0.1)\n",
    "    time.sleep(2)\n",
    "    try: # Sometimes the \"Accept TOS\" checkbox needs to be checked\n",
    "        driver.find_element(By.CSS_SELECTOR, \"#app > div.auth > div > div.form-wrapper > div > div > form > div:nth-child(2) > div.mt-0 > div > div.mt-0.mb-0 > div > div:nth-child(1)\").click()\n",
    "        time.sleep(1)\n",
    "    except:\n",
    "        pass\n",
    "    driver.find_element(By.CSS_SELECTOR, \"#app > div.auth > div > div.form-wrapper > div > div > form > div:nth-child(2) > div.mt-0 > div > div.loading-button > button\").click()\n",
    "    time.sleep(5)\n",
    "\n",
    "    # Close Cookie-disclaimer\n",
    "    driver.find_element(By.CSS_SELECTOR, \"#onetrust-pc-btn-handler\").click()\n",
    "    time.sleep(2)\n",
    "    driver.find_element(By.CSS_SELECTOR, \"#onetrust-pc-sdk > div > div.ot-pc-footer.ot-pc-scrollbar > div.ot-btn-container > button.ot-pc-refuse-all-handler\").click()\n",
    "    time.sleep(1)\n",
    "\n",
    "    return driver\n",
    "\n",
    "def logout_trade_winds(driver: webdriver.Chrome) -> webdriver.Chrome:\n",
    "    \n",
    "    driver.find_element(By.CSS_SELECTOR, \"#app > div > div.top-bar > nav > header > div > div.d-flex.justify-content-between.align-items-center > div > div > div:nth-child(2) > button\").click()\n",
    "    time.sleep(2)\n",
    "    driver.find_element(By.CSS_SELECTOR, \"#app > div > div.top-bar > nav > header > div > div.d-flex.justify-content-between.align-items-center > div > div > div:nth-child(2) > div > div > div > div > div:nth-child(2) > a\").click()\n",
    "    time.sleep(4)\n",
    "    \n",
    "    return driver\n",
    "\n",
    "def get_articles_with_content_from_trade_winds(articles: List[ArticleInfoLeadText]) -> List[ArticleInfoContent]:\n",
    "    articles_with_content = []\n",
    "\n",
    "    email = os.getenv('TRADEWINDS_EMAIL')\n",
    "    password = os.getenv('TRADEWINDS_PASSWORD')\n",
    "    \n",
    "    driver = webdriver.Chrome()\n",
    "    driver = login_to_trade_winds(driver, email, password)\n",
    "    for article in articles:\n",
    "        \n",
    "        # Get article content\n",
    "        driver.get(article['url'])\n",
    "        time.sleep(4)\n",
    "        page_source = bs4.BeautifulSoup(driver.page_source, 'html.parser')\n",
    "        paragraphs = page_source.select('#app > div > div.container-fluid.tradewinds.articlepage.page-articlepage > div.wrapper > div > div:nth-child(2) > div:nth-child(1) > div.article-center-column.col-12.col-md-9.col-lg-6 > div.article-body > div')[0].select('p')\n",
    "        content = \"\"\n",
    "        for paragraph in paragraphs:\n",
    "            content += paragraph.text + \"\\n\"\n",
    "        \n",
    "        article_with_content = ArticleInfoContent(\n",
    "            date_time=article['date_time'],\n",
    "            category=article['category'],\n",
    "            title=article['title'],\n",
    "            url=article['url'],\n",
    "            lead_text=article['lead_text'],\n",
    "            content=content\n",
    "            )\n",
    "        articles_with_content.append(article_with_content)\n",
    "        time.sleep(0.5)\n",
    "        \n",
    "    driver = logout_trade_winds(driver)\n",
    "    driver.quit()\n",
    "    \n",
    "    return articles_with_content"
   ]
  },
  {
   "cell_type": "code",
   "execution_count": 62,
   "metadata": {},
   "outputs": [],
   "source": [
    "def get_articles_from_tradewinds(hours_ago: int = 24) -> List[ArticleInfoContent]:\n",
    "    \n",
    "    articles: List[ArticleInfo] = get_articles_with_info(hours_ago=hours_ago)\n",
    "    articles: List[ArticleInfoLeadText] = get_articles_with_lead_text(articles)\n",
    "    articles: List[ArticleInfoContent] = get_articles_with_content_from_trade_winds(articles)\n",
    "    \n",
    "    return articles"
   ]
  },
  {
   "cell_type": "code",
   "execution_count": 141,
   "metadata": {},
   "outputs": [
    {
     "name": "stdout",
     "output_type": "stream",
     "text": [
      "henrik.raaen.bo.trading@gmail.com\n",
      "WebScrapingCarnegie1\n"
     ]
    }
   ],
   "source": [
    "articles_from_testing = get_articles_with_content_from_trade_winds(articles_test)"
   ]
  },
  {
   "cell_type": "code",
   "execution_count": 64,
   "metadata": {},
   "outputs": [],
   "source": [
    "articles_to_read = get_articles_from_tradewinds(hours_ago=24)"
   ]
  },
  {
   "cell_type": "code",
   "execution_count": 65,
   "metadata": {},
   "outputs": [
    {
     "name": "stdout",
     "output_type": "stream",
     "text": [
      "20\n"
     ]
    }
   ],
   "source": [
    "print(len(articles_to_read))"
   ]
  },
  {
   "cell_type": "code",
   "execution_count": 66,
   "metadata": {},
   "outputs": [
    {
     "name": "stdout",
     "output_type": "stream",
     "text": [
      "0: Houthis claim to target Maersk-chartered Costamare ship off Oman\n",
      "1: Seacor Marine takes broker to court after charterer’s bankrtupcy\n",
      "2: LR2s surge 36% in four days as Middle East product fixtures show ‘signs of recovery’\n",
      "3: The Scorpio fixture that wasn’t: Someone makes big money on an STI ship, but with a twist\n",
      "4: Wavelength podcast: US and UK increase sanctions pressure on Iran and Russia\n",
      "5: Container freight rates slide for 12th week in succession\n",
      "6: Arrest warrant issued after Greek dockworkers block Israel-bound ammunition cargo\n",
      "7: Hengli Heavy’s billionaire owners go for Shanghai listing through reverse takeover\n",
      "8: Why some shipowners are staring down the barrel of insurance hikes next year\n",
      "9: Tankers International’s maritime walk raises £10,000 for Mercy Ships\n",
      "10: Singapore Shipping Association hires logistics veteran to replace long-time chief Michael Phoon\n",
      "11: Seatrade bags $150m from sale of container ship quintet to CMA CGM\n",
      "12: Investment manager Basalt Partners kicks off new LNG shipowning venture with Celsius\n",
      "13: Titan lashes out at Shell for not choosing LNG-fuelling on newbuildings\n",
      "14: Baltimore bridge tragedy cost coal exporter $100m, claim alleges\n",
      "15: US Marine beats 11 owners to lucrative US Navy charter for product tankers\n",
      "16: Trio of laden sanctioned Russian LNG shadow ships converge in Asia\n",
      "17: Dutch shipbroker Friday & Co hires veteran Justin Archard on its S&P desk\n",
      "18: Crackdown on insurance cover could see ships banned from India’s ports\n",
      "19: Miner Vale extends record wind propulsion investment with rotor sails on giant chartered VLOC\n"
     ]
    }
   ],
   "source": [
    "for i, article in enumerate(articles_to_read):\n",
    "    print(f\"{i}: {article['title']}\")"
   ]
  },
  {
   "cell_type": "markdown",
   "metadata": {},
   "source": [
    "### Generate Summaries"
   ]
  },
  {
   "cell_type": "code",
   "execution_count": 67,
   "metadata": {},
   "outputs": [],
   "source": [
    "from dotenv import load_dotenv\n",
    "from openai import OpenAI"
   ]
  },
  {
   "cell_type": "code",
   "execution_count": 69,
   "metadata": {},
   "outputs": [],
   "source": [
    "class MessageDict(TypedDict):\n",
    "    role: str\n",
    "    content: str\n",
    "\n",
    "class ChoiceDict(TypedDict):\n",
    "    index: int\n",
    "    message: MessageDict\n",
    "    logprobs: Optional[None]\n",
    "    finish_reason: str\n",
    "\n",
    "class UsageDetailsDict(TypedDict):\n",
    "    reasoning_tokens: int\n",
    "\n",
    "class UsageDict(TypedDict):\n",
    "    prompt_tokens: int\n",
    "    completion_tokens: int\n",
    "    total_tokens: int\n",
    "    completion_tokens_details: UsageDetailsDict\n",
    "\n",
    "class ChatCompletionResponse(TypedDict):\n",
    "    id: str\n",
    "    object: str\n",
    "    created: int\n",
    "    model: str\n",
    "    system_fingerprint: str\n",
    "    choices: List[ChoiceDict]\n",
    "    usage: UsageDict"
   ]
  },
  {
   "cell_type": "code",
   "execution_count": 91,
   "metadata": {},
   "outputs": [],
   "source": [
    "def get_client():\n",
    "    client = OpenAI()\n",
    "    return client\n",
    "\n",
    "def get_completion(client: OpenAI, model: str, messages: List[Dict[str, str]]) -> ChatCompletionResponse:\n",
    "    try:\n",
    "        completion: ChatCompletionResponse = client.chat.completions.create(\n",
    "            model=model,\n",
    "            messages=messages\n",
    "        )\n",
    "        return completion\n",
    "    except Exception as e:\n",
    "        print(e)\n",
    "        return None\n",
    "\n",
    "def get_summary(client: OpenAI, article: ArticleInfoContent) -> str:\n",
    "    model = \"gpt-4o-mini\"\n",
    "    messages = [\n",
    "        {\"role\": \"system\", \"content\": \"You are a ship broker and an expert at providing concise and information dense summaries of news articles.\"},\n",
    "        {\"role\": \"system\", \"content\": \"I will provide you with the title, lead text, and content from a news article. I want you to summarize the content in a few sentences. Respond only with the summary and a potential analysis and opinion from the author.\"},\n",
    "        # {\"role\": \"system\", \"content\": f\"I will provide you with a source to the article. The source is <source>{article['url']}</source>. Add the source at the start of the summary with the following markdown format: 'Source: [<title>{article['title']}</title>]({article['url']})'\"},\n",
    "        {\"role\": \"system\", \"content\": \"Only use information from the news article, and do not hallucinate.\"},\n",
    "        {\"role\": \"system\", \"content\": \"The summary should focus on key events, key entities, key numbers, and the authors analysis and opinion.\"},\n",
    "        {\"role\": \"system\", \"content\": \"Write the summary first. If the authors analysis and opinion exist, add a newline, the text 'Authors Analysis:' in bold, and summarize the analysis and opinion as well in 1-2 sentences. If it does not exist, do not add this part.\"},\n",
    "        {\"role\": \"user\", \"content\": f\"<title>{article['content']}</title>\"},\n",
    "        {\"role\": \"user\", \"content\": f\"<lead text>{article['lead_text']}</lead text>\"},\n",
    "        {\"role\": \"user\", \"content\": f\"< content>{article['content']}</content>\"}\n",
    "    ]\n",
    "    completion = get_completion(client, model, messages)\n",
    "    summary = completion.choices[0].message.content\n",
    "    return summary\n",
    "\n",
    "def get_bullet_points(client: OpenAI, article: ArticleInfoContent) -> str:\n",
    "    model = \"gpt-4o-mini\"\n",
    "    messages = [\n",
    "        {\"role\": \"system\", \"content\": \"You are a ship broker and an expert at providing concise and informative bullet points of news articles.\"},\n",
    "        {\"role\": \"system\", \"content\": \"I will provide you with the title, lead text, and content from a news article. I want you to summarize the lead text and content with two bullet points. Respond only with the bullet points.\"},\n",
    "        # {\"role\": \"system\", \"content\": f\"I will provide you with a source to the article. The source is <source>{article['url']}</source>. Add the source at the start of the summary with the following markdown format: 'Source: [<title>{article['title']}</title>]({article['url']})'\"},\n",
    "        {\"role\": \"system\", \"content\": \"Only use information from the news article, and do not hallucinate.\"},\n",
    "        {\"role\": \"system\", \"content\": \"The bullet points should focus on key events, key entities, key numbers, and the authors analysis and opinion.\"},\n",
    "        {\"role\": \"system\", \"content\": \"The bullet points should give a ship broker the information they need to understand what the article is about, and what insights they gain from reading it.\"},\n",
    "        {\"role\": \"user\", \"content\": f\"<title>{article['content']}</title>\"},\n",
    "        {\"role\": \"user\", \"content\": f\"<lead text>{article['lead_text']}</lead text>\"},\n",
    "        {\"role\": \"user\", \"content\": f\"< content>{article['content']}</content>\"}\n",
    "    ]\n",
    "    completion = get_completion(client, model, messages)\n",
    "    bullet_points = completion.choices[0].message.content\n",
    "    return bullet_points\n",
    "\n",
    "def get_articles_with_summaries_and_bullet_points(articles: List[ArticleInfoContent]) -> List[ArticleSummary]:\n",
    "    articles_with_summaries_and_bullet_points = []\n",
    "    client = get_client()\n",
    "    for article in articles:\n",
    "        summary = get_summary(client, article)\n",
    "        bullet_points = get_bullet_points(client, article)\n",
    "        articles_with_summary_and_bullet_points = ArticleSummary(\n",
    "            date_time=article['date_time'],\n",
    "            category=article['category'],\n",
    "            title=article['title'],\n",
    "            url=article['url'],\n",
    "            lead_text=article['lead_text'],\n",
    "            content=article['content'],\n",
    "            summary=summary,\n",
    "            bullet_points=bullet_points\n",
    "        )\n",
    "        articles_with_summaries_and_bullet_points.append(articles_with_summary_and_bullet_points)\n",
    "    return articles_with_summaries_and_bullet_points"
   ]
  },
  {
   "cell_type": "code",
   "execution_count": 92,
   "metadata": {},
   "outputs": [],
   "source": [
    "articles_with_summaries_and_bullet_points = get_articles_with_summaries_and_bullet_points(articles_to_read[:3])"
   ]
  },
  {
   "cell_type": "code",
   "execution_count": 98,
   "metadata": {},
   "outputs": [
    {
     "name": "stdout",
     "output_type": "stream",
     "text": [
      "Title: Houthis claim to target Maersk-chartered Costamare ship off Oman\n",
      "- The Houthis claimed to have targeted the 4,957-teu container ship Megalopolis, allegedly due to its owner's violation of a ban on docking at Israeli ports, while military forces in the region have not confirmed the incident.\n",
      "- The Megalopolis, owned by Costamare and insured by the Swedish Club, was reportedly moving at a slow 0.4 knots off the coast of Oman, and tracking data shows it took a lengthy route to the Arabian Sea, avoiding the Suez Canal.\n",
      "\n",
      "Title: Seacor Marine takes broker to court after charterer’s bankrtupcy\n",
      "- The Houthi military claimed to have targeted the 4,957-teu container ship Megalopolis off the coast of Oman, alleging it was in response to the shipowner's supposed violation of a ban on Israeli port calls, despite tracking data indicating it hadn't called in Israel. \n",
      "- The Megalopolis, owned by Costamare and insured by the Swedish Club, was reported stationary near Salalah, prompting skepticism from military forces monitoring maritime security, which have not confirmed the attack.\n",
      "\n",
      "Title: LR2s surge 36% in four days as Middle East product fixtures show ‘signs of recovery’\n",
      "- The Houthi military claimed to have targeted the container ship Megalopolis (4,957-teu) off the Omani coast, alleging the operation was due to the shipowner's violation of a ban on calling at Israeli ports, despite evidence suggesting it had not done so. \n",
      "- Tracking data indicates the Megalopolis was moving at only 0.4 knots near Salalah and had taken a longer route to the Arabian Sea, while military authorities monitoring the region have not corroborated the Houthi attack claims.\n",
      "\n"
     ]
    }
   ],
   "source": [
    "for article in articles_with_summaries_and_bullet_points:\n",
    "    print(f\"Title: {article['title']}\")\n",
    "    print(f\"{article['bullet_points']}\")\n",
    "    print()"
   ]
  },
  {
   "cell_type": "code",
   "execution_count": 99,
   "metadata": {},
   "outputs": [
    {
     "name": "stdout",
     "output_type": "stream",
     "text": [
      "Title: Houthis claim to target Maersk-chartered Costamare ship off Oman\n",
      "Summary: The Houthis have claimed responsibility for targeting the container ship Megalopolis, owned by US-listed Costamare and part of the AP Moller-Maersk fleet, while it was near Oman. Houthi spokesperson Yahya Saree asserted that the operation involved drones and achieved its objectives, although independent verification of the incident is lacking. Tracking data indicates that the ship was moving very slowly off the Omani port of Salalah after a long route from the Mediterranean, circumventing the Suez Canal. Saree cited the act as retaliation due to the ship's alleged violation of a ban on calling at Israeli ports, a claim disputed by location data. Furthermore, he expressed solidarity with Hezbollah and Hamas amid ongoing regional tensions.\n",
      "\n",
      "**Authors Analysis:** The author suggests a possibility of exaggeration or misinformation by the Houthis, noting their history of uncorroborated claims regarding maritime attacks, which raises questions about the credibility of their announcements. Additionally, it underscores the complex geopolitical dynamics in the region, particularly in relation to the ongoing conflicts involving Israel, Hezbollah, and Hamas.\n",
      "\n",
      "Title: Seacor Marine takes broker to court after charterer’s bankrtupcy\n",
      "Summary: The Houthi group announced they targeted the 4,957-teu container ship Megalopolis, owned by US-listed Costamare, while it was off the coast of Oman. Houthi spokesman Yahya Saree claimed the operation involved multiple drones and was conducted in response to the ship's supposed violation of a ban on calling at Israeli ports, despite tracking data indicating it had not been to Israel. Military monitors in the region, such as the Royal Navy, did not confirm the attack, and the Houthis have a history of making unverified claims regarding maritime attacks. The Megalopolis was reported as moving at a very slow speed of 0.4 knots and sailed from the Mediterranean around the Cape of Good Hope.\n",
      "\n",
      "**Authors Analysis:** The author highlights the inconsistency in the Houthi's claims regarding the ship's movements and their rationale for the attack, suggesting skepticism about the veracity of such claims, especially given the lack of confirmation from military authorities and the group's track record of unvalidated attacks.\n",
      "\n",
      "Title: LR2s surge 36% in four days as Middle East product fixtures show ‘signs of recovery’\n",
      "Summary: The Houthis claimed to have targeted the 4,957-teu container ship Megalopolis, owned by Costamare and operating under Maersk, off the coast of Oman using multiple drones. Houthi spokesman Yahya Saree announced the operation, suggesting it was a response to the ship's alleged violation of a ban against visiting Israeli ports, although tracking data indicates that the Megalopolis has not docked in Israel. Despite the claim, maritime security forces in the region, including the UK’s Royal Navy, did not report any such attack, highlighting the Houthis' history of unverified claims against distant vessels. \n",
      "\n",
      "**Authors Analysis:** The article implies skepticism regarding the Houthi's claims, noting the absence of evidence corroborating the attack and raising questions about the motivations behind the operation, particularly in light of their support for militant groups in the region.\n",
      "\n"
     ]
    }
   ],
   "source": [
    "for article in articles_with_summaries_and_bullet_points:\n",
    "    print(f\"Title: {article['title']}\")\n",
    "    print(f\"Summary: {article['summary']}\")\n",
    "    print()"
   ]
  },
  {
   "cell_type": "code",
   "execution_count": null,
   "metadata": {},
   "outputs": [],
   "source": [
    "def get_articles_from_tradewinds(hours_ago: int = 24) -> List[ArticleSummary]:\n",
    "    \n",
    "    load_dotenv()\n",
    "    articles: List[ArticleInfo] = get_articles_with_info(hours_ago=hours_ago)\n",
    "    articles: List[ArticleInfoLeadText] = get_articles_with_lead_text(articles)\n",
    "    articles: List[ArticleInfoContent] = get_articles_with_content_from_trade_winds(articles)\n",
    "    articles: List[ArticleSummary] = get_articles_with_summaries_and_bullet_points(articles)\n",
    "    \n",
    "    return articles"
   ]
  },
  {
   "cell_type": "code",
   "execution_count": 143,
   "metadata": {},
   "outputs": [],
   "source": [
    "test_summary_articles = get_articles_with_summaries_and_bullet_points(articles_from_testing)"
   ]
  }
 ],
 "metadata": {
  "kernelspec": {
   "display_name": "venv",
   "language": "python",
   "name": "python3"
  },
  "language_info": {
   "codemirror_mode": {
    "name": "ipython",
    "version": 3
   },
   "file_extension": ".py",
   "mimetype": "text/x-python",
   "name": "python",
   "nbconvert_exporter": "python",
   "pygments_lexer": "ipython3",
   "version": "3.11.4"
  }
 },
 "nbformat": 4,
 "nbformat_minor": 2
}
